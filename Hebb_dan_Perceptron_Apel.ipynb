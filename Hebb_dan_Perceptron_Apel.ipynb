{
  "nbformat": 4,
  "nbformat_minor": 0,
  "metadata": {
    "colab": {
      "provenance": [],
      "authorship_tag": "ABX9TyMgiy8AC0keyMcMPb3P1eiE",
      "include_colab_link": true
    },
    "kernelspec": {
      "name": "python3",
      "display_name": "Python 3"
    },
    "language_info": {
      "name": "python"
    }
  },
  "cells": [
    {
      "cell_type": "markdown",
      "metadata": {
        "id": "view-in-github",
        "colab_type": "text"
      },
      "source": [
        "<a href=\"https://colab.research.google.com/github/brillync/AI/blob/main/Hebb_dan_Perceptron_Apel.ipynb\" target=\"_parent\"><img src=\"https://colab.research.google.com/assets/colab-badge.svg\" alt=\"Open In Colab\"/></a>"
      ]
    },
    {
      "cell_type": "code",
      "execution_count": 11,
      "metadata": {
        "id": "bsk-lJ-Zqd8x"
      },
      "outputs": [],
      "source": [
        "# Data input\n",
        "input_data = [\n",
        "    [1, 1, 1],\n",
        "    [-1, -1, -1]\n",
        "]\n",
        "\n",
        "# Target\n",
        "target = [1, -1]\n",
        "\n",
        "# Bobot awal\n",
        "weights = [0, 0, 0]\n",
        "\n",
        "# Fungsi aktivasi\n",
        "def activation_function(x):\n",
        "    return 1 if x >= 0 else -1\n"
      ]
    },
    {
      "cell_type": "code",
      "source": [
        "epochs = 1\n",
        "learning_rate = 1\n",
        "\n",
        "for _ in range(epochs):\n",
        "    for i in range(len(input_data)):\n",
        "        x = input_data[i]\n",
        "        y = target[i]\n",
        "        prediction = activation_function(sum(x[j] * weights[j] for j in range(len(x))))\n",
        "        error = y - prediction\n",
        "        weights = [weights[j] + learning_rate * error * x[j] for j in range(len(x))]\n",
        "\n",
        "# Prediksi pola baru\n",
        "new_data = [\n",
        "    [1, 1, -1],  # Pola Apel\n",
        "    [-1, 1, -1]   # Pola Bukan Apel\n",
        "]"
      ],
      "metadata": {
        "id": "LptT02lduH4v"
      },
      "execution_count": 12,
      "outputs": []
    },
    {
      "cell_type": "code",
      "source": [
        "predictions = [activation_function(sum(new_data[i][j] * weights[j] for j in range(len(new_data[i])))) for i in range(len(new_data))]\n",
        "\n",
        "# Cetak hasil prediksi\n",
        "print(\"Prediksi target : \" )\n",
        "print(predictions)\n",
        "output = \", \".join([\"Apel\" if prediction == 1 else \"Bukan Apel\" for prediction in predictions])\n",
        "print(output)"
      ],
      "metadata": {
        "colab": {
          "base_uri": "https://localhost:8080/"
        },
        "id": "6zd6bF3AuQlI",
        "outputId": "c41485c4-27ad-46a7-9442-50ff9dd015b7"
      },
      "execution_count": 13,
      "outputs": [
        {
          "output_type": "stream",
          "name": "stdout",
          "text": [
            "Prediksi target : \n",
            "[1, -1]\n",
            "Apel, Bukan Apel\n"
          ]
        }
      ]
    }
  ]
}
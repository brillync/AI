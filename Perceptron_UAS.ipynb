{
  "nbformat": 4,
  "nbformat_minor": 0,
  "metadata": {
    "colab": {
      "provenance": [],
      "authorship_tag": "ABX9TyMKYlOgaGbyLRSyFMwlwMos",
      "include_colab_link": true
    },
    "kernelspec": {
      "name": "python3",
      "display_name": "Python 3"
    },
    "language_info": {
      "name": "python"
    }
  },
  "cells": [
    {
      "cell_type": "markdown",
      "metadata": {
        "id": "view-in-github",
        "colab_type": "text"
      },
      "source": [
        "<a href=\"https://colab.research.google.com/github/brillync/AI/blob/main/Perceptron_UAS.ipynb\" target=\"_parent\"><img src=\"https://colab.research.google.com/assets/colab-badge.svg\" alt=\"Open In Colab\"/></a>"
      ]
    },
    {
      "cell_type": "code",
      "execution_count": 4,
      "metadata": {
        "id": "xohMnjr6O_8F"
      },
      "outputs": [],
      "source": [
        "# Data input\n",
        "input_data = [\n",
        "    [0, 1, 0, 1],\n",
        "    [0, 0, 1, 1]\n",
        "]\n",
        "\n",
        "# Target\n",
        "target = [1, -1, -1, -1]\n",
        "\n",
        "# Bobot awal\n",
        "weights = [0, 0, 0, 0]\n",
        "\n",
        "# Fungsi aktivasi\n",
        "def activation_function(x):\n",
        "    return 1 if x >= 0 else -1\n"
      ]
    },
    {
      "cell_type": "code",
      "source": [
        "epochs = 1\n",
        "learning_rate = 1\n",
        "\n",
        "for _ in range(epochs):\n",
        "    for i in range(len(input_data)):\n",
        "        x = input_data[i]\n",
        "        y = target[i]\n",
        "        prediction = activation_function(sum(x[j] * weights[j] for j in range(len(x))))\n",
        "        error = y - prediction\n",
        "        weights = [weights[j] + learning_rate * error * x[j] for j in range(len(x))]\n",
        "\n",
        "# Prediksi pola baru\n",
        "new_data = [\n",
        "    [1, -1, 1, -1],  # Pola Apel\n",
        "    [1, -1, -1, -1]   # Pola Bukan Apel\n",
        "]"
      ],
      "metadata": {
        "id": "r0ojMi70QcMU"
      },
      "execution_count": 15,
      "outputs": []
    },
    {
      "cell_type": "code",
      "source": [
        "predictions = [activation_function(sum(new_data[i][j] * weights[j] for j in range(len(new_data[i])))) for i in range(len(new_data))]\n",
        "\n",
        "# Cetak hasil prediksi\n",
        "print(\"Prediksi target : \" )\n",
        "print(predictions)\n",
        "output = \", \".join([\"Sidik jari dikenali\" if prediction == 1 else \"Tidak dikenali\" for prediction in predictions])\n",
        "print(output)"
      ],
      "metadata": {
        "colab": {
          "base_uri": "https://localhost:8080/"
        },
        "id": "Gi6_cB2zSm_-",
        "outputId": "b2ecce53-dfc3-4038-8d81-3c65d4ee6619"
      },
      "execution_count": 16,
      "outputs": [
        {
          "output_type": "stream",
          "name": "stdout",
          "text": [
            "Prediksi target : \n",
            "[-1, 1]\n",
            "Tidak dikenali, Sidik jari dikenali\n"
          ]
        }
      ]
    }
  ]
}
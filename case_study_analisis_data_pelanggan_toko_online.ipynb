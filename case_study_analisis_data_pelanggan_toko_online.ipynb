{
  "nbformat": 4,
  "nbformat_minor": 0,
  "metadata": {
    "colab": {
      "provenance": [],
      "include_colab_link": true
    },
    "kernelspec": {
      "name": "python3",
      "display_name": "Python 3"
    },
    "language_info": {
      "name": "python"
    }
  },
  "cells": [
    {
      "cell_type": "markdown",
      "metadata": {
        "id": "view-in-github",
        "colab_type": "text"
      },
      "source": [
        "<a href=\"https://colab.research.google.com/github/brillync/AI/blob/main/case_study_analisis_data_pelanggan_toko_online.ipynb\" target=\"_parent\"><img src=\"https://colab.research.google.com/assets/colab-badge.svg\" alt=\"Open In Colab\"/></a>"
      ]
    },
    {
      "cell_type": "markdown",
      "source": [
        "Note: Data can be retrieved from https://drive.google.com/drive/folders/1pgdInn6fnSlwD5mTNHgoZs8POBee0c11?usp=sharing"
      ],
      "metadata": {
        "id": "H4WZ_udvM56i"
      }
    },
    {
      "cell_type": "markdown",
      "source": [],
      "metadata": {
        "id": "8dkkwK8UM6xq"
      }
    },
    {
      "cell_type": "markdown",
      "source": [
        "## Case atau Problem:"
      ],
      "metadata": {
        "id": "pg9w6xaVXmdW"
      }
    },
    {
      "cell_type": "markdown",
      "source": [
        "\n",
        "Sebuah toko online ingin memahami profil pelanggannya untuk meningkatkan strategi pemasaran dan pengalaman pelanggan secara keseluruhan. Data pelanggan yang ada mencakup informasi tentang umur, gender, jumlah produk yang dibeli, total biaya belanjaan, dan frekuensi pembelian."
      ],
      "metadata": {
        "id": "X5Wb2ms_Xd1n"
      }
    },
    {
      "cell_type": "markdown",
      "source": [
        "##Tujuan Analisis:"
      ],
      "metadata": {
        "id": "nHTjyDwnX1B6"
      }
    },
    {
      "cell_type": "markdown",
      "source": [
        "1. **Memahami Profil Pelanggan:** Melakukan analisis deskriptif untuk memahami karakteristik utama dari pelanggan, seperti usia rata-rata, jenis kelamin mayoritas, dan sebagainya.\n",
        "2. **Identifikasi Pola Pembelian:** Mengetahui pola pembelian pelanggan, seperti jumlah rata-rata produk yang dibeli, total belanjaan rata-rata, dan frekuensi pembelian.\n",
        "3. **Membuat Plot Grafik:** Membuat visualisasi data yang informatif, seperti histogram untuk umur pelanggan, diagram batang untuk jenis kelamin, dan scatter plot untuk menampilkan hubungan antara jumlah produk yang dibeli dengan total biaya belanjaan.\n",
        "4. **Menentukan Persamaan Regresi:** Membangun model regresi linear sederhana untuk memprediksi total biaya belanjaan berdasarkan umur pelanggan."
      ],
      "metadata": {
        "id": "6cZHz9BnX47b"
      }
    },
    {
      "cell_type": "markdown",
      "source": [
        "##Sumber Data"
      ],
      "metadata": {
        "id": "1RT98sWWYHqW"
      }
    },
    {
      "cell_type": "code",
      "source": [],
      "metadata": {
        "id": "bysMh6cnMFKl"
      },
      "execution_count": null,
      "outputs": []
    },
    {
      "cell_type": "code",
      "source": [
        "import pandas as pd\n",
        "data=pd.read_csv(\"customer_data.csv\")\n",
        "data"
      ],
      "metadata": {
        "colab": {
          "base_uri": "https://localhost:8080/",
          "height": 394
        },
        "id": "fh-xZjE_YvV5",
        "outputId": "ad6f6f36-c02f-439f-a23d-e76f28942de9"
      },
      "execution_count": null,
      "outputs": [
        {
          "output_type": "execute_result",
          "data": {
            "text/plain": [
              "       Nama  Usia     Gender  Jumlah_Produk  Total_Belanjaan  \\\n",
              "0      John    35  Laki-laki              4          2000000   \n",
              "1     Alice    28  Perempuan              2          1000000   \n",
              "2       Bob    45  Laki-laki              6          3000000   \n",
              "3     Emily    30  Perempuan              3          1500000   \n",
              "4     David    40  Laki-laki              5          2500000   \n",
              "5     Sarah    32  Perempuan              4          2000000   \n",
              "6   Michael    38  Laki-laki              7          3500000   \n",
              "7       Eva    27  Perempuan              3          1500000   \n",
              "8    Daniel    33  Laki-laki              4          2000000   \n",
              "9    Olivia    29  Perempuan              2          1000000   \n",
              "10   Sophia    36  Perempuan              5          2500000   \n",
              "\n",
              "    Frekuensi_Pembelian  \n",
              "0                     3  \n",
              "1                     2  \n",
              "2                     4  \n",
              "3                     2  \n",
              "4                     3  \n",
              "5                     3  \n",
              "6                     5  \n",
              "7                     2  \n",
              "8                     3  \n",
              "9                     2  \n",
              "10                    4  "
            ],
            "text/html": [
              "\n",
              "  <div id=\"df-8acc5326-b580-4ab9-ba39-4eb08e872ff4\" class=\"colab-df-container\">\n",
              "    <div>\n",
              "<style scoped>\n",
              "    .dataframe tbody tr th:only-of-type {\n",
              "        vertical-align: middle;\n",
              "    }\n",
              "\n",
              "    .dataframe tbody tr th {\n",
              "        vertical-align: top;\n",
              "    }\n",
              "\n",
              "    .dataframe thead th {\n",
              "        text-align: right;\n",
              "    }\n",
              "</style>\n",
              "<table border=\"1\" class=\"dataframe\">\n",
              "  <thead>\n",
              "    <tr style=\"text-align: right;\">\n",
              "      <th></th>\n",
              "      <th>Nama</th>\n",
              "      <th>Usia</th>\n",
              "      <th>Gender</th>\n",
              "      <th>Jumlah_Produk</th>\n",
              "      <th>Total_Belanjaan</th>\n",
              "      <th>Frekuensi_Pembelian</th>\n",
              "    </tr>\n",
              "  </thead>\n",
              "  <tbody>\n",
              "    <tr>\n",
              "      <th>0</th>\n",
              "      <td>John</td>\n",
              "      <td>35</td>\n",
              "      <td>Laki-laki</td>\n",
              "      <td>4</td>\n",
              "      <td>2000000</td>\n",
              "      <td>3</td>\n",
              "    </tr>\n",
              "    <tr>\n",
              "      <th>1</th>\n",
              "      <td>Alice</td>\n",
              "      <td>28</td>\n",
              "      <td>Perempuan</td>\n",
              "      <td>2</td>\n",
              "      <td>1000000</td>\n",
              "      <td>2</td>\n",
              "    </tr>\n",
              "    <tr>\n",
              "      <th>2</th>\n",
              "      <td>Bob</td>\n",
              "      <td>45</td>\n",
              "      <td>Laki-laki</td>\n",
              "      <td>6</td>\n",
              "      <td>3000000</td>\n",
              "      <td>4</td>\n",
              "    </tr>\n",
              "    <tr>\n",
              "      <th>3</th>\n",
              "      <td>Emily</td>\n",
              "      <td>30</td>\n",
              "      <td>Perempuan</td>\n",
              "      <td>3</td>\n",
              "      <td>1500000</td>\n",
              "      <td>2</td>\n",
              "    </tr>\n",
              "    <tr>\n",
              "      <th>4</th>\n",
              "      <td>David</td>\n",
              "      <td>40</td>\n",
              "      <td>Laki-laki</td>\n",
              "      <td>5</td>\n",
              "      <td>2500000</td>\n",
              "      <td>3</td>\n",
              "    </tr>\n",
              "    <tr>\n",
              "      <th>5</th>\n",
              "      <td>Sarah</td>\n",
              "      <td>32</td>\n",
              "      <td>Perempuan</td>\n",
              "      <td>4</td>\n",
              "      <td>2000000</td>\n",
              "      <td>3</td>\n",
              "    </tr>\n",
              "    <tr>\n",
              "      <th>6</th>\n",
              "      <td>Michael</td>\n",
              "      <td>38</td>\n",
              "      <td>Laki-laki</td>\n",
              "      <td>7</td>\n",
              "      <td>3500000</td>\n",
              "      <td>5</td>\n",
              "    </tr>\n",
              "    <tr>\n",
              "      <th>7</th>\n",
              "      <td>Eva</td>\n",
              "      <td>27</td>\n",
              "      <td>Perempuan</td>\n",
              "      <td>3</td>\n",
              "      <td>1500000</td>\n",
              "      <td>2</td>\n",
              "    </tr>\n",
              "    <tr>\n",
              "      <th>8</th>\n",
              "      <td>Daniel</td>\n",
              "      <td>33</td>\n",
              "      <td>Laki-laki</td>\n",
              "      <td>4</td>\n",
              "      <td>2000000</td>\n",
              "      <td>3</td>\n",
              "    </tr>\n",
              "    <tr>\n",
              "      <th>9</th>\n",
              "      <td>Olivia</td>\n",
              "      <td>29</td>\n",
              "      <td>Perempuan</td>\n",
              "      <td>2</td>\n",
              "      <td>1000000</td>\n",
              "      <td>2</td>\n",
              "    </tr>\n",
              "    <tr>\n",
              "      <th>10</th>\n",
              "      <td>Sophia</td>\n",
              "      <td>36</td>\n",
              "      <td>Perempuan</td>\n",
              "      <td>5</td>\n",
              "      <td>2500000</td>\n",
              "      <td>4</td>\n",
              "    </tr>\n",
              "  </tbody>\n",
              "</table>\n",
              "</div>\n",
              "    <div class=\"colab-df-buttons\">\n",
              "\n",
              "  <div class=\"colab-df-container\">\n",
              "    <button class=\"colab-df-convert\" onclick=\"convertToInteractive('df-8acc5326-b580-4ab9-ba39-4eb08e872ff4')\"\n",
              "            title=\"Convert this dataframe to an interactive table.\"\n",
              "            style=\"display:none;\">\n",
              "\n",
              "  <svg xmlns=\"http://www.w3.org/2000/svg\" height=\"24px\" viewBox=\"0 -960 960 960\">\n",
              "    <path d=\"M120-120v-720h720v720H120Zm60-500h600v-160H180v160Zm220 220h160v-160H400v160Zm0 220h160v-160H400v160ZM180-400h160v-160H180v160Zm440 0h160v-160H620v160ZM180-180h160v-160H180v160Zm440 0h160v-160H620v160Z\"/>\n",
              "  </svg>\n",
              "    </button>\n",
              "\n",
              "  <style>\n",
              "    .colab-df-container {\n",
              "      display:flex;\n",
              "      gap: 12px;\n",
              "    }\n",
              "\n",
              "    .colab-df-convert {\n",
              "      background-color: #E8F0FE;\n",
              "      border: none;\n",
              "      border-radius: 50%;\n",
              "      cursor: pointer;\n",
              "      display: none;\n",
              "      fill: #1967D2;\n",
              "      height: 32px;\n",
              "      padding: 0 0 0 0;\n",
              "      width: 32px;\n",
              "    }\n",
              "\n",
              "    .colab-df-convert:hover {\n",
              "      background-color: #E2EBFA;\n",
              "      box-shadow: 0px 1px 2px rgba(60, 64, 67, 0.3), 0px 1px 3px 1px rgba(60, 64, 67, 0.15);\n",
              "      fill: #174EA6;\n",
              "    }\n",
              "\n",
              "    .colab-df-buttons div {\n",
              "      margin-bottom: 4px;\n",
              "    }\n",
              "\n",
              "    [theme=dark] .colab-df-convert {\n",
              "      background-color: #3B4455;\n",
              "      fill: #D2E3FC;\n",
              "    }\n",
              "\n",
              "    [theme=dark] .colab-df-convert:hover {\n",
              "      background-color: #434B5C;\n",
              "      box-shadow: 0px 1px 3px 1px rgba(0, 0, 0, 0.15);\n",
              "      filter: drop-shadow(0px 1px 2px rgba(0, 0, 0, 0.3));\n",
              "      fill: #FFFFFF;\n",
              "    }\n",
              "  </style>\n",
              "\n",
              "    <script>\n",
              "      const buttonEl =\n",
              "        document.querySelector('#df-8acc5326-b580-4ab9-ba39-4eb08e872ff4 button.colab-df-convert');\n",
              "      buttonEl.style.display =\n",
              "        google.colab.kernel.accessAllowed ? 'block' : 'none';\n",
              "\n",
              "      async function convertToInteractive(key) {\n",
              "        const element = document.querySelector('#df-8acc5326-b580-4ab9-ba39-4eb08e872ff4');\n",
              "        const dataTable =\n",
              "          await google.colab.kernel.invokeFunction('convertToInteractive',\n",
              "                                                    [key], {});\n",
              "        if (!dataTable) return;\n",
              "\n",
              "        const docLinkHtml = 'Like what you see? Visit the ' +\n",
              "          '<a target=\"_blank\" href=https://colab.research.google.com/notebooks/data_table.ipynb>data table notebook</a>'\n",
              "          + ' to learn more about interactive tables.';\n",
              "        element.innerHTML = '';\n",
              "        dataTable['output_type'] = 'display_data';\n",
              "        await google.colab.output.renderOutput(dataTable, element);\n",
              "        const docLink = document.createElement('div');\n",
              "        docLink.innerHTML = docLinkHtml;\n",
              "        element.appendChild(docLink);\n",
              "      }\n",
              "    </script>\n",
              "  </div>\n",
              "\n",
              "\n",
              "<div id=\"df-e884ae34-e7b2-405b-88dc-47102c09a322\">\n",
              "  <button class=\"colab-df-quickchart\" onclick=\"quickchart('df-e884ae34-e7b2-405b-88dc-47102c09a322')\"\n",
              "            title=\"Suggest charts\"\n",
              "            style=\"display:none;\">\n",
              "\n",
              "<svg xmlns=\"http://www.w3.org/2000/svg\" height=\"24px\"viewBox=\"0 0 24 24\"\n",
              "     width=\"24px\">\n",
              "    <g>\n",
              "        <path d=\"M19 3H5c-1.1 0-2 .9-2 2v14c0 1.1.9 2 2 2h14c1.1 0 2-.9 2-2V5c0-1.1-.9-2-2-2zM9 17H7v-7h2v7zm4 0h-2V7h2v10zm4 0h-2v-4h2v4z\"/>\n",
              "    </g>\n",
              "</svg>\n",
              "  </button>\n",
              "\n",
              "<style>\n",
              "  .colab-df-quickchart {\n",
              "      --bg-color: #E8F0FE;\n",
              "      --fill-color: #1967D2;\n",
              "      --hover-bg-color: #E2EBFA;\n",
              "      --hover-fill-color: #174EA6;\n",
              "      --disabled-fill-color: #AAA;\n",
              "      --disabled-bg-color: #DDD;\n",
              "  }\n",
              "\n",
              "  [theme=dark] .colab-df-quickchart {\n",
              "      --bg-color: #3B4455;\n",
              "      --fill-color: #D2E3FC;\n",
              "      --hover-bg-color: #434B5C;\n",
              "      --hover-fill-color: #FFFFFF;\n",
              "      --disabled-bg-color: #3B4455;\n",
              "      --disabled-fill-color: #666;\n",
              "  }\n",
              "\n",
              "  .colab-df-quickchart {\n",
              "    background-color: var(--bg-color);\n",
              "    border: none;\n",
              "    border-radius: 50%;\n",
              "    cursor: pointer;\n",
              "    display: none;\n",
              "    fill: var(--fill-color);\n",
              "    height: 32px;\n",
              "    padding: 0;\n",
              "    width: 32px;\n",
              "  }\n",
              "\n",
              "  .colab-df-quickchart:hover {\n",
              "    background-color: var(--hover-bg-color);\n",
              "    box-shadow: 0 1px 2px rgba(60, 64, 67, 0.3), 0 1px 3px 1px rgba(60, 64, 67, 0.15);\n",
              "    fill: var(--button-hover-fill-color);\n",
              "  }\n",
              "\n",
              "  .colab-df-quickchart-complete:disabled,\n",
              "  .colab-df-quickchart-complete:disabled:hover {\n",
              "    background-color: var(--disabled-bg-color);\n",
              "    fill: var(--disabled-fill-color);\n",
              "    box-shadow: none;\n",
              "  }\n",
              "\n",
              "  .colab-df-spinner {\n",
              "    border: 2px solid var(--fill-color);\n",
              "    border-color: transparent;\n",
              "    border-bottom-color: var(--fill-color);\n",
              "    animation:\n",
              "      spin 1s steps(1) infinite;\n",
              "  }\n",
              "\n",
              "  @keyframes spin {\n",
              "    0% {\n",
              "      border-color: transparent;\n",
              "      border-bottom-color: var(--fill-color);\n",
              "      border-left-color: var(--fill-color);\n",
              "    }\n",
              "    20% {\n",
              "      border-color: transparent;\n",
              "      border-left-color: var(--fill-color);\n",
              "      border-top-color: var(--fill-color);\n",
              "    }\n",
              "    30% {\n",
              "      border-color: transparent;\n",
              "      border-left-color: var(--fill-color);\n",
              "      border-top-color: var(--fill-color);\n",
              "      border-right-color: var(--fill-color);\n",
              "    }\n",
              "    40% {\n",
              "      border-color: transparent;\n",
              "      border-right-color: var(--fill-color);\n",
              "      border-top-color: var(--fill-color);\n",
              "    }\n",
              "    60% {\n",
              "      border-color: transparent;\n",
              "      border-right-color: var(--fill-color);\n",
              "    }\n",
              "    80% {\n",
              "      border-color: transparent;\n",
              "      border-right-color: var(--fill-color);\n",
              "      border-bottom-color: var(--fill-color);\n",
              "    }\n",
              "    90% {\n",
              "      border-color: transparent;\n",
              "      border-bottom-color: var(--fill-color);\n",
              "    }\n",
              "  }\n",
              "</style>\n",
              "\n",
              "  <script>\n",
              "    async function quickchart(key) {\n",
              "      const quickchartButtonEl =\n",
              "        document.querySelector('#' + key + ' button');\n",
              "      quickchartButtonEl.disabled = true;  // To prevent multiple clicks.\n",
              "      quickchartButtonEl.classList.add('colab-df-spinner');\n",
              "      try {\n",
              "        const charts = await google.colab.kernel.invokeFunction(\n",
              "            'suggestCharts', [key], {});\n",
              "      } catch (error) {\n",
              "        console.error('Error during call to suggestCharts:', error);\n",
              "      }\n",
              "      quickchartButtonEl.classList.remove('colab-df-spinner');\n",
              "      quickchartButtonEl.classList.add('colab-df-quickchart-complete');\n",
              "    }\n",
              "    (() => {\n",
              "      let quickchartButtonEl =\n",
              "        document.querySelector('#df-e884ae34-e7b2-405b-88dc-47102c09a322 button');\n",
              "      quickchartButtonEl.style.display =\n",
              "        google.colab.kernel.accessAllowed ? 'block' : 'none';\n",
              "    })();\n",
              "  </script>\n",
              "</div>\n",
              "    </div>\n",
              "  </div>\n"
            ],
            "application/vnd.google.colaboratory.intrinsic+json": {
              "type": "dataframe",
              "variable_name": "data",
              "summary": "{\n  \"name\": \"data\",\n  \"rows\": 11,\n  \"fields\": [\n    {\n      \"column\": \"Nama\",\n      \"properties\": {\n        \"dtype\": \"string\",\n        \"num_unique_values\": 11,\n        \"samples\": [\n          \"Sarah\",\n          \"John\",\n          \"Olivia\"\n        ],\n        \"semantic_type\": \"\",\n        \"description\": \"\"\n      }\n    },\n    {\n      \"column\": \"Usia\",\n      \"properties\": {\n        \"dtype\": \"number\",\n        \"std\": 5,\n        \"min\": 27,\n        \"max\": 45,\n        \"num_unique_values\": 11,\n        \"samples\": [\n          32,\n          35,\n          29\n        ],\n        \"semantic_type\": \"\",\n        \"description\": \"\"\n      }\n    },\n    {\n      \"column\": \"Gender\",\n      \"properties\": {\n        \"dtype\": \"category\",\n        \"num_unique_values\": 2,\n        \"samples\": [\n          \"Perempuan\",\n          \"Laki-laki\"\n        ],\n        \"semantic_type\": \"\",\n        \"description\": \"\"\n      }\n    },\n    {\n      \"column\": \"Jumlah_Produk\",\n      \"properties\": {\n        \"dtype\": \"number\",\n        \"std\": 1,\n        \"min\": 2,\n        \"max\": 7,\n        \"num_unique_values\": 6,\n        \"samples\": [\n          4,\n          2\n        ],\n        \"semantic_type\": \"\",\n        \"description\": \"\"\n      }\n    },\n    {\n      \"column\": \"Total_Belanjaan\",\n      \"properties\": {\n        \"dtype\": \"number\",\n        \"std\": 789130,\n        \"min\": 1000000,\n        \"max\": 3500000,\n        \"num_unique_values\": 6,\n        \"samples\": [\n          2000000,\n          1000000\n        ],\n        \"semantic_type\": \"\",\n        \"description\": \"\"\n      }\n    },\n    {\n      \"column\": \"Frekuensi_Pembelian\",\n      \"properties\": {\n        \"dtype\": \"number\",\n        \"std\": 1,\n        \"min\": 2,\n        \"max\": 5,\n        \"num_unique_values\": 4,\n        \"samples\": [\n          2,\n          5\n        ],\n        \"semantic_type\": \"\",\n        \"description\": \"\"\n      }\n    }\n  ]\n}"
            }
          },
          "metadata": {},
          "execution_count": 1
        }
      ]
    },
    {
      "cell_type": "markdown",
      "source": [
        "##Analysis"
      ],
      "metadata": {
        "id": "aR8UZ-rKZf3Y"
      }
    },
    {
      "cell_type": "markdown",
      "source": [
        "###Load dan tampilkan data"
      ],
      "metadata": {
        "id": "RojwwhRMcJre"
      }
    },
    {
      "cell_type": "code",
      "source": [
        "import pandas as pd\n",
        "import matplotlib.pyplot as plt\n",
        "from sklearn.linear_model import LinearRegression\n",
        "\n",
        "# Membaca data pelanggan dari file CSV\n",
        "customer_data = pd.read_csv('customer_data.csv')\n",
        "customer_data"
      ],
      "metadata": {
        "colab": {
          "base_uri": "https://localhost:8080/",
          "height": 394
        },
        "id": "L62PwOKAZf69",
        "outputId": "301f71d5-64b1-4d08-aaba-724dae255b42"
      },
      "execution_count": null,
      "outputs": [
        {
          "output_type": "execute_result",
          "data": {
            "text/plain": [
              "       Nama  Usia     Gender  Jumlah_Produk  Total_Belanjaan  \\\n",
              "0      John    35  Laki-laki              4          2000000   \n",
              "1     Alice    28  Perempuan              2          1000000   \n",
              "2       Bob    45  Laki-laki              6          3000000   \n",
              "3     Emily    30  Perempuan              3          1500000   \n",
              "4     David    40  Laki-laki              5          2500000   \n",
              "5     Sarah    32  Perempuan              4          2000000   \n",
              "6   Michael    38  Laki-laki              7          3500000   \n",
              "7       Eva    27  Perempuan              3          1500000   \n",
              "8    Daniel    33  Laki-laki              4          2000000   \n",
              "9    Olivia    29  Perempuan              2          1000000   \n",
              "10   Sophia    36  Perempuan              5          2500000   \n",
              "\n",
              "    Frekuensi_Pembelian  \n",
              "0                     3  \n",
              "1                     2  \n",
              "2                     4  \n",
              "3                     2  \n",
              "4                     3  \n",
              "5                     3  \n",
              "6                     5  \n",
              "7                     2  \n",
              "8                     3  \n",
              "9                     2  \n",
              "10                    4  "
            ],
            "text/html": [
              "\n",
              "  <div id=\"df-992df1aa-870b-469c-845e-60ca9d9adae1\" class=\"colab-df-container\">\n",
              "    <div>\n",
              "<style scoped>\n",
              "    .dataframe tbody tr th:only-of-type {\n",
              "        vertical-align: middle;\n",
              "    }\n",
              "\n",
              "    .dataframe tbody tr th {\n",
              "        vertical-align: top;\n",
              "    }\n",
              "\n",
              "    .dataframe thead th {\n",
              "        text-align: right;\n",
              "    }\n",
              "</style>\n",
              "<table border=\"1\" class=\"dataframe\">\n",
              "  <thead>\n",
              "    <tr style=\"text-align: right;\">\n",
              "      <th></th>\n",
              "      <th>Nama</th>\n",
              "      <th>Usia</th>\n",
              "      <th>Gender</th>\n",
              "      <th>Jumlah_Produk</th>\n",
              "      <th>Total_Belanjaan</th>\n",
              "      <th>Frekuensi_Pembelian</th>\n",
              "    </tr>\n",
              "  </thead>\n",
              "  <tbody>\n",
              "    <tr>\n",
              "      <th>0</th>\n",
              "      <td>John</td>\n",
              "      <td>35</td>\n",
              "      <td>Laki-laki</td>\n",
              "      <td>4</td>\n",
              "      <td>2000000</td>\n",
              "      <td>3</td>\n",
              "    </tr>\n",
              "    <tr>\n",
              "      <th>1</th>\n",
              "      <td>Alice</td>\n",
              "      <td>28</td>\n",
              "      <td>Perempuan</td>\n",
              "      <td>2</td>\n",
              "      <td>1000000</td>\n",
              "      <td>2</td>\n",
              "    </tr>\n",
              "    <tr>\n",
              "      <th>2</th>\n",
              "      <td>Bob</td>\n",
              "      <td>45</td>\n",
              "      <td>Laki-laki</td>\n",
              "      <td>6</td>\n",
              "      <td>3000000</td>\n",
              "      <td>4</td>\n",
              "    </tr>\n",
              "    <tr>\n",
              "      <th>3</th>\n",
              "      <td>Emily</td>\n",
              "      <td>30</td>\n",
              "      <td>Perempuan</td>\n",
              "      <td>3</td>\n",
              "      <td>1500000</td>\n",
              "      <td>2</td>\n",
              "    </tr>\n",
              "    <tr>\n",
              "      <th>4</th>\n",
              "      <td>David</td>\n",
              "      <td>40</td>\n",
              "      <td>Laki-laki</td>\n",
              "      <td>5</td>\n",
              "      <td>2500000</td>\n",
              "      <td>3</td>\n",
              "    </tr>\n",
              "    <tr>\n",
              "      <th>5</th>\n",
              "      <td>Sarah</td>\n",
              "      <td>32</td>\n",
              "      <td>Perempuan</td>\n",
              "      <td>4</td>\n",
              "      <td>2000000</td>\n",
              "      <td>3</td>\n",
              "    </tr>\n",
              "    <tr>\n",
              "      <th>6</th>\n",
              "      <td>Michael</td>\n",
              "      <td>38</td>\n",
              "      <td>Laki-laki</td>\n",
              "      <td>7</td>\n",
              "      <td>3500000</td>\n",
              "      <td>5</td>\n",
              "    </tr>\n",
              "    <tr>\n",
              "      <th>7</th>\n",
              "      <td>Eva</td>\n",
              "      <td>27</td>\n",
              "      <td>Perempuan</td>\n",
              "      <td>3</td>\n",
              "      <td>1500000</td>\n",
              "      <td>2</td>\n",
              "    </tr>\n",
              "    <tr>\n",
              "      <th>8</th>\n",
              "      <td>Daniel</td>\n",
              "      <td>33</td>\n",
              "      <td>Laki-laki</td>\n",
              "      <td>4</td>\n",
              "      <td>2000000</td>\n",
              "      <td>3</td>\n",
              "    </tr>\n",
              "    <tr>\n",
              "      <th>9</th>\n",
              "      <td>Olivia</td>\n",
              "      <td>29</td>\n",
              "      <td>Perempuan</td>\n",
              "      <td>2</td>\n",
              "      <td>1000000</td>\n",
              "      <td>2</td>\n",
              "    </tr>\n",
              "    <tr>\n",
              "      <th>10</th>\n",
              "      <td>Sophia</td>\n",
              "      <td>36</td>\n",
              "      <td>Perempuan</td>\n",
              "      <td>5</td>\n",
              "      <td>2500000</td>\n",
              "      <td>4</td>\n",
              "    </tr>\n",
              "  </tbody>\n",
              "</table>\n",
              "</div>\n",
              "    <div class=\"colab-df-buttons\">\n",
              "\n",
              "  <div class=\"colab-df-container\">\n",
              "    <button class=\"colab-df-convert\" onclick=\"convertToInteractive('df-992df1aa-870b-469c-845e-60ca9d9adae1')\"\n",
              "            title=\"Convert this dataframe to an interactive table.\"\n",
              "            style=\"display:none;\">\n",
              "\n",
              "  <svg xmlns=\"http://www.w3.org/2000/svg\" height=\"24px\" viewBox=\"0 -960 960 960\">\n",
              "    <path d=\"M120-120v-720h720v720H120Zm60-500h600v-160H180v160Zm220 220h160v-160H400v160Zm0 220h160v-160H400v160ZM180-400h160v-160H180v160Zm440 0h160v-160H620v160ZM180-180h160v-160H180v160Zm440 0h160v-160H620v160Z\"/>\n",
              "  </svg>\n",
              "    </button>\n",
              "\n",
              "  <style>\n",
              "    .colab-df-container {\n",
              "      display:flex;\n",
              "      gap: 12px;\n",
              "    }\n",
              "\n",
              "    .colab-df-convert {\n",
              "      background-color: #E8F0FE;\n",
              "      border: none;\n",
              "      border-radius: 50%;\n",
              "      cursor: pointer;\n",
              "      display: none;\n",
              "      fill: #1967D2;\n",
              "      height: 32px;\n",
              "      padding: 0 0 0 0;\n",
              "      width: 32px;\n",
              "    }\n",
              "\n",
              "    .colab-df-convert:hover {\n",
              "      background-color: #E2EBFA;\n",
              "      box-shadow: 0px 1px 2px rgba(60, 64, 67, 0.3), 0px 1px 3px 1px rgba(60, 64, 67, 0.15);\n",
              "      fill: #174EA6;\n",
              "    }\n",
              "\n",
              "    .colab-df-buttons div {\n",
              "      margin-bottom: 4px;\n",
              "    }\n",
              "\n",
              "    [theme=dark] .colab-df-convert {\n",
              "      background-color: #3B4455;\n",
              "      fill: #D2E3FC;\n",
              "    }\n",
              "\n",
              "    [theme=dark] .colab-df-convert:hover {\n",
              "      background-color: #434B5C;\n",
              "      box-shadow: 0px 1px 3px 1px rgba(0, 0, 0, 0.15);\n",
              "      filter: drop-shadow(0px 1px 2px rgba(0, 0, 0, 0.3));\n",
              "      fill: #FFFFFF;\n",
              "    }\n",
              "  </style>\n",
              "\n",
              "    <script>\n",
              "      const buttonEl =\n",
              "        document.querySelector('#df-992df1aa-870b-469c-845e-60ca9d9adae1 button.colab-df-convert');\n",
              "      buttonEl.style.display =\n",
              "        google.colab.kernel.accessAllowed ? 'block' : 'none';\n",
              "\n",
              "      async function convertToInteractive(key) {\n",
              "        const element = document.querySelector('#df-992df1aa-870b-469c-845e-60ca9d9adae1');\n",
              "        const dataTable =\n",
              "          await google.colab.kernel.invokeFunction('convertToInteractive',\n",
              "                                                    [key], {});\n",
              "        if (!dataTable) return;\n",
              "\n",
              "        const docLinkHtml = 'Like what you see? Visit the ' +\n",
              "          '<a target=\"_blank\" href=https://colab.research.google.com/notebooks/data_table.ipynb>data table notebook</a>'\n",
              "          + ' to learn more about interactive tables.';\n",
              "        element.innerHTML = '';\n",
              "        dataTable['output_type'] = 'display_data';\n",
              "        await google.colab.output.renderOutput(dataTable, element);\n",
              "        const docLink = document.createElement('div');\n",
              "        docLink.innerHTML = docLinkHtml;\n",
              "        element.appendChild(docLink);\n",
              "      }\n",
              "    </script>\n",
              "  </div>\n",
              "\n",
              "\n",
              "<div id=\"df-6f475eb9-491c-4a61-92a5-aa2819ba1af2\">\n",
              "  <button class=\"colab-df-quickchart\" onclick=\"quickchart('df-6f475eb9-491c-4a61-92a5-aa2819ba1af2')\"\n",
              "            title=\"Suggest charts\"\n",
              "            style=\"display:none;\">\n",
              "\n",
              "<svg xmlns=\"http://www.w3.org/2000/svg\" height=\"24px\"viewBox=\"0 0 24 24\"\n",
              "     width=\"24px\">\n",
              "    <g>\n",
              "        <path d=\"M19 3H5c-1.1 0-2 .9-2 2v14c0 1.1.9 2 2 2h14c1.1 0 2-.9 2-2V5c0-1.1-.9-2-2-2zM9 17H7v-7h2v7zm4 0h-2V7h2v10zm4 0h-2v-4h2v4z\"/>\n",
              "    </g>\n",
              "</svg>\n",
              "  </button>\n",
              "\n",
              "<style>\n",
              "  .colab-df-quickchart {\n",
              "      --bg-color: #E8F0FE;\n",
              "      --fill-color: #1967D2;\n",
              "      --hover-bg-color: #E2EBFA;\n",
              "      --hover-fill-color: #174EA6;\n",
              "      --disabled-fill-color: #AAA;\n",
              "      --disabled-bg-color: #DDD;\n",
              "  }\n",
              "\n",
              "  [theme=dark] .colab-df-quickchart {\n",
              "      --bg-color: #3B4455;\n",
              "      --fill-color: #D2E3FC;\n",
              "      --hover-bg-color: #434B5C;\n",
              "      --hover-fill-color: #FFFFFF;\n",
              "      --disabled-bg-color: #3B4455;\n",
              "      --disabled-fill-color: #666;\n",
              "  }\n",
              "\n",
              "  .colab-df-quickchart {\n",
              "    background-color: var(--bg-color);\n",
              "    border: none;\n",
              "    border-radius: 50%;\n",
              "    cursor: pointer;\n",
              "    display: none;\n",
              "    fill: var(--fill-color);\n",
              "    height: 32px;\n",
              "    padding: 0;\n",
              "    width: 32px;\n",
              "  }\n",
              "\n",
              "  .colab-df-quickchart:hover {\n",
              "    background-color: var(--hover-bg-color);\n",
              "    box-shadow: 0 1px 2px rgba(60, 64, 67, 0.3), 0 1px 3px 1px rgba(60, 64, 67, 0.15);\n",
              "    fill: var(--button-hover-fill-color);\n",
              "  }\n",
              "\n",
              "  .colab-df-quickchart-complete:disabled,\n",
              "  .colab-df-quickchart-complete:disabled:hover {\n",
              "    background-color: var(--disabled-bg-color);\n",
              "    fill: var(--disabled-fill-color);\n",
              "    box-shadow: none;\n",
              "  }\n",
              "\n",
              "  .colab-df-spinner {\n",
              "    border: 2px solid var(--fill-color);\n",
              "    border-color: transparent;\n",
              "    border-bottom-color: var(--fill-color);\n",
              "    animation:\n",
              "      spin 1s steps(1) infinite;\n",
              "  }\n",
              "\n",
              "  @keyframes spin {\n",
              "    0% {\n",
              "      border-color: transparent;\n",
              "      border-bottom-color: var(--fill-color);\n",
              "      border-left-color: var(--fill-color);\n",
              "    }\n",
              "    20% {\n",
              "      border-color: transparent;\n",
              "      border-left-color: var(--fill-color);\n",
              "      border-top-color: var(--fill-color);\n",
              "    }\n",
              "    30% {\n",
              "      border-color: transparent;\n",
              "      border-left-color: var(--fill-color);\n",
              "      border-top-color: var(--fill-color);\n",
              "      border-right-color: var(--fill-color);\n",
              "    }\n",
              "    40% {\n",
              "      border-color: transparent;\n",
              "      border-right-color: var(--fill-color);\n",
              "      border-top-color: var(--fill-color);\n",
              "    }\n",
              "    60% {\n",
              "      border-color: transparent;\n",
              "      border-right-color: var(--fill-color);\n",
              "    }\n",
              "    80% {\n",
              "      border-color: transparent;\n",
              "      border-right-color: var(--fill-color);\n",
              "      border-bottom-color: var(--fill-color);\n",
              "    }\n",
              "    90% {\n",
              "      border-color: transparent;\n",
              "      border-bottom-color: var(--fill-color);\n",
              "    }\n",
              "  }\n",
              "</style>\n",
              "\n",
              "  <script>\n",
              "    async function quickchart(key) {\n",
              "      const quickchartButtonEl =\n",
              "        document.querySelector('#' + key + ' button');\n",
              "      quickchartButtonEl.disabled = true;  // To prevent multiple clicks.\n",
              "      quickchartButtonEl.classList.add('colab-df-spinner');\n",
              "      try {\n",
              "        const charts = await google.colab.kernel.invokeFunction(\n",
              "            'suggestCharts', [key], {});\n",
              "      } catch (error) {\n",
              "        console.error('Error during call to suggestCharts:', error);\n",
              "      }\n",
              "      quickchartButtonEl.classList.remove('colab-df-spinner');\n",
              "      quickchartButtonEl.classList.add('colab-df-quickchart-complete');\n",
              "    }\n",
              "    (() => {\n",
              "      let quickchartButtonEl =\n",
              "        document.querySelector('#df-6f475eb9-491c-4a61-92a5-aa2819ba1af2 button');\n",
              "      quickchartButtonEl.style.display =\n",
              "        google.colab.kernel.accessAllowed ? 'block' : 'none';\n",
              "    })();\n",
              "  </script>\n",
              "</div>\n",
              "    </div>\n",
              "  </div>\n"
            ],
            "application/vnd.google.colaboratory.intrinsic+json": {
              "type": "dataframe",
              "variable_name": "customer_data",
              "summary": "{\n  \"name\": \"customer_data\",\n  \"rows\": 11,\n  \"fields\": [\n    {\n      \"column\": \"Nama\",\n      \"properties\": {\n        \"dtype\": \"string\",\n        \"num_unique_values\": 11,\n        \"samples\": [\n          \"Sarah\",\n          \"John\",\n          \"Olivia\"\n        ],\n        \"semantic_type\": \"\",\n        \"description\": \"\"\n      }\n    },\n    {\n      \"column\": \"Usia\",\n      \"properties\": {\n        \"dtype\": \"number\",\n        \"std\": 5,\n        \"min\": 27,\n        \"max\": 45,\n        \"num_unique_values\": 11,\n        \"samples\": [\n          32,\n          35,\n          29\n        ],\n        \"semantic_type\": \"\",\n        \"description\": \"\"\n      }\n    },\n    {\n      \"column\": \"Gender\",\n      \"properties\": {\n        \"dtype\": \"category\",\n        \"num_unique_values\": 2,\n        \"samples\": [\n          \"Perempuan\",\n          \"Laki-laki\"\n        ],\n        \"semantic_type\": \"\",\n        \"description\": \"\"\n      }\n    },\n    {\n      \"column\": \"Jumlah_Produk\",\n      \"properties\": {\n        \"dtype\": \"number\",\n        \"std\": 1,\n        \"min\": 2,\n        \"max\": 7,\n        \"num_unique_values\": 6,\n        \"samples\": [\n          4,\n          2\n        ],\n        \"semantic_type\": \"\",\n        \"description\": \"\"\n      }\n    },\n    {\n      \"column\": \"Total_Belanjaan\",\n      \"properties\": {\n        \"dtype\": \"number\",\n        \"std\": 789130,\n        \"min\": 1000000,\n        \"max\": 3500000,\n        \"num_unique_values\": 6,\n        \"samples\": [\n          2000000,\n          1000000\n        ],\n        \"semantic_type\": \"\",\n        \"description\": \"\"\n      }\n    },\n    {\n      \"column\": \"Frekuensi_Pembelian\",\n      \"properties\": {\n        \"dtype\": \"number\",\n        \"std\": 1,\n        \"min\": 2,\n        \"max\": 5,\n        \"num_unique_values\": 4,\n        \"samples\": [\n          2,\n          5\n        ],\n        \"semantic_type\": \"\",\n        \"description\": \"\"\n      }\n    }\n  ]\n}"
            }
          },
          "metadata": {},
          "execution_count": 14
        }
      ]
    },
    {
      "cell_type": "markdown",
      "source": [
        "###  Analysis Deskriptif"
      ],
      "metadata": {
        "id": "voy0B0mEcSKL"
      }
    },
    {
      "cell_type": "markdown",
      "source": [
        "#### Menghitung Mean, Median, Modus, dan Standard Deviasi"
      ],
      "metadata": {
        "id": "9SrtARA0cp2a"
      }
    },
    {
      "cell_type": "code",
      "source": [
        "\n",
        "\n",
        "mean_age = customer_data['Usia'].mean()\n",
        "median_age = customer_data['Usia'].median()\n",
        "mode_gender = customer_data['Gender'].mode()[0]\n",
        "mean_products = customer_data['Jumlah_Produk'].mean()\n",
        "mean_spending = customer_data['Total_Belanjaan'].mean()\n",
        "std_spending = customer_data['Total_Belanjaan'].std()\n",
        "print(\"Mean Umur:\", mean_age)\n",
        "print(\"Median Umur:\", median_age)\n",
        "print(\"Modus Gender:\", mode_gender)\n",
        "print(\"Mean Jumlah Produk:\", mean_products)\n",
        "print(\"Mean Total Belanjaan:\", mean_spending)\n",
        "print(\"Standard Deviasi Total Belanjaan:\", std_spending)"
      ],
      "metadata": {
        "colab": {
          "base_uri": "https://localhost:8080/"
        },
        "id": "ogdWPErdZf-C",
        "outputId": "11d7ccbf-dd67-4746-f5c6-58e4694b194d"
      },
      "execution_count": null,
      "outputs": [
        {
          "output_type": "stream",
          "name": "stdout",
          "text": [
            "Mean Umur: 33.90909090909091\n",
            "Median Umur: 33.0\n",
            "Modus Gender: Perempuan\n",
            "Mean Jumlah Produk: 4.090909090909091\n",
            "Mean Total Belanjaan: 2045454.5454545454\n",
            "Standard Deviasi Total Belanjaan: 789130.7069980693\n"
          ]
        }
      ]
    },
    {
      "cell_type": "markdown",
      "source": [
        "#### Membuat Plot Grafik\n",
        "\n"
      ],
      "metadata": {
        "id": "8c_pCu7Wct4G"
      }
    },
    {
      "cell_type": "markdown",
      "source": [
        "#####Histogram Umur Pelanggan"
      ],
      "metadata": {
        "id": "AJZ1XcHVdAgM"
      }
    },
    {
      "cell_type": "code",
      "source": [
        "\n",
        "plt.hist(customer_data['Usia'], bins=10, color='skyblue', edgecolor='black')\n",
        "plt.title('Histogram Umur Pelanggan')\n",
        "plt.xlabel('Umur')\n",
        "plt.ylabel('Frekuensi')\n",
        "plt.show()\n"
      ],
      "metadata": {
        "colab": {
          "base_uri": "https://localhost:8080/",
          "height": 472
        },
        "id": "hpPz4-0DZ0yn",
        "outputId": "99c219b7-499a-40dc-f4db-440b3a30bb79"
      },
      "execution_count": null,
      "outputs": [
        {
          "output_type": "display_data",
          "data": {
            "text/plain": [
              "<Figure size 640x480 with 1 Axes>"
            ],
            "image/png": "[encoded data removed]"
          },
          "metadata": {}
        }
      ]
    },
    {
      "cell_type": "markdown",
      "source": [
        "##### Diagram Batang Gender"
      ],
      "metadata": {
        "id": "WqaILzKXdDEc"
      }
    },
    {
      "cell_type": "code",
      "source": [
        "\n",
        "gender_counts = customer_data['Gender'].value_counts()\n",
        "plt.bar(gender_counts.index, gender_counts.values, color=['blue', 'pink'])\n",
        "plt.title('Diagram Batang Gender Pelanggan')\n",
        "plt.xlabel('Gender')\n",
        "plt.ylabel('Jumlah')\n",
        "plt.show()\n"
      ],
      "metadata": {
        "colab": {
          "base_uri": "https://localhost:8080/",
          "height": 472
        },
        "id": "qjYoMC79Z5Fn",
        "outputId": "4ffbf01f-14b6-49df-fa31-24e71c46161d"
      },
      "execution_count": null,
      "outputs": [
        {
          "output_type": "display_data",
          "data": {
            "text/plain": [
              "<Figure size 640x480 with 1 Axes>"
            ],
            "image/png": "[encoded data removed]"
          },
          "metadata": {}
        }
      ]
    },
    {
      "cell_type": "markdown",
      "source": [
        "##### Scatter Plot Jumlah Produk vs Total Belanjaan"
      ],
      "metadata": {
        "id": "5TmXgA5tdIF5"
      }
    },
    {
      "cell_type": "code",
      "source": [
        "\n",
        "plt.scatter(customer_data['Jumlah_Produk'], customer_data['Total_Belanjaan'], color='green')\n",
        "plt.title('Scatter Plot Jumlah Produk vs Total Belanjaan')\n",
        "plt.xlabel('Jumlah Produk')\n",
        "plt.ylabel('Total Belanjaan')\n",
        "plt.show()"
      ],
      "metadata": {
        "colab": {
          "base_uri": "https://localhost:8080/",
          "height": 472
        },
        "id": "AogyMY28Z7sA",
        "outputId": "a8873c0b-9448-406e-fc0a-ad0ed9f02af0"
      },
      "execution_count": null,
      "outputs": [
        {
          "output_type": "display_data",
          "data": {
            "text/plain": [
              "<Figure size 640x480 with 1 Axes>"
            ],
            "image/png": "[encoded data removed]"
          },
          "metadata": {}
        }
      ]
    },
    {
      "cell_type": "markdown",
      "source": [
        "###Analysis Diagnostic"
      ],
      "metadata": {
        "id": "_sovnaSAeAot"
      }
    },
    {
      "cell_type": "markdown",
      "source": [
        "#### Analisis Regresi Linear"
      ],
      "metadata": {
        "id": "L5TW9HyZdTfE"
      }
    },
    {
      "cell_type": "code",
      "source": [
        "\n",
        "\n",
        "\n",
        "X = customer_data[['Usia']]\n",
        "y = customer_data['Total_Belanjaan']\n",
        "\n",
        "regressor = LinearRegression()\n",
        "regressor.fit(X, y)\n",
        "\n",
        "# Mencetak Persamaan Regresi Linear\n",
        "print(\"\\nPersamaan Regresi Linear:\")\n",
        "print(\"Total Belanjaan =\", round(regressor.intercept_, 2), \"+\", round(regressor.coef_[0], 2), \"* Usia\")\n"
      ],
      "metadata": {
        "colab": {
          "base_uri": "https://localhost:8080/"
        },
        "id": "gHy_IiHwYv2e",
        "outputId": "483b9e13-1f87-4ab9-c4f1-cb8e01181ead"
      },
      "execution_count": null,
      "outputs": [
        {
          "output_type": "stream",
          "name": "stdout",
          "text": [
            "\n",
            "Persamaan Regresi Linear:\n",
            "Total Belanjaan = -2075927.02 + 121542.08 * Usia\n"
          ]
        }
      ]
    },
    {
      "cell_type": "markdown",
      "source": [
        "#### Plot Grafik   Regresi Linear"
      ],
      "metadata": {
        "id": "3kPoDT9vdYcD"
      }
    },
    {
      "cell_type": "code",
      "source": [
        "import numpy as np\n",
        "\n",
        "# Plot Scatter Plot Jumlah Produk vs Total Belanjaan\n",
        "plt.scatter(customer_data['Usia'], customer_data['Total_Belanjaan'], color='green')\n",
        "plt.title('Scatter Plot Jumlah Produk vs Total Belanjaan')\n",
        "plt.xlabel('Usia Pelanggan')\n",
        "plt.ylabel('Total Belanjaan')\n",
        "\n",
        "# Plot Garis Regresi Linear\n",
        "plt.plot(X, regressor.predict(X), color='red', linewidth=2)\n",
        "plt.show()"
      ],
      "metadata": {
        "colab": {
          "base_uri": "https://localhost:8080/",
          "height": 472
        },
        "id": "QEpKJP9aY8Rn",
        "outputId": "0a4a058a-e6c8-4a4e-bd1d-9ff733cce93d"
      },
      "execution_count": null,
      "outputs": [
        {
          "output_type": "display_data",
          "data": {
            "text/plain": [
              "<Figure size 640x480 with 1 Axes>"
            ],
            "image/png": "[encoded data removed]"
          },
          "metadata": {}
        }
      ]
    },
    {
      "cell_type": "code",
      "source": [],
      "metadata": {
        "id": "b6kcB1Gfahmm"
      },
      "execution_count": null,
      "outputs": []
    }
  ]
}
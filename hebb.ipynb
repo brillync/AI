{
  "nbformat": 4,
  "nbformat_minor": 0,
  "metadata": {
    "colab": {
      "provenance": [],
      "authorship_tag": "ABX9TyO1Qi43E4yl642aSjKi0yWp",
      "include_colab_link": true
    },
    "kernelspec": {
      "name": "python3",
      "display_name": "Python 3"
    },
    "language_info": {
      "name": "python"
    }
  },
  "cells": [
    {
      "cell_type": "markdown",
      "metadata": {
        "id": "view-in-github",
        "colab_type": "text"
      },
      "source": [
        "<a href=\"https://colab.research.google.com/github/brillync/AI/blob/main/hebb.ipynb\" target=\"_parent\"><img src=\"https://colab.research.google.com/assets/colab-badge.svg\" alt=\"Open In Colab\"/></a>"
      ]
    },
    {
      "cell_type": "code",
      "execution_count": 1,
      "metadata": {
        "id": "s4-0tfnd_rwo"
      },
      "outputs": [],
      "source": [
        "x1=[0,0,1,1]\n",
        "x2=[0,1,0,1]\n",
        "target=[0,0,0,1]\n",
        "bias=[1,1,1,1]\n",
        "w1_delta=[]\n",
        "w2_delta=[]\n",
        "b_delta=[]\n",
        "w1_baru=[]\n",
        "w2_baru=[]\n",
        "b_baru=[]\n",
        "net=[]\n",
        "a=[]\n",
        "\n",
        "w1_awal=0\n",
        "w2_awal=0\n",
        "b_awal=0\n",
        "\n",
        "temp1=int(w1_awal)\n",
        "temp2=int(w2_awal)\n",
        "temp0=int(b_awal)\n"
      ]
    },
    {
      "cell_type": "code",
      "source": [
        "for i in range(0,4):\n",
        "    w1_delta.append(x1[i]*target[i])\n",
        "    w1_baru.append(temp1+x1[i]*target[i])\n",
        "    temp1=w1_baru[i]\n",
        "\n",
        "    w2_delta.append(x2[i]*target[i])\n",
        "    w2_baru.append(temp2+x2[i]*target[i])\n",
        "    temp2=w2_baru[i]\n",
        "\n",
        "    b_delta.append(bias[i]*target[i])\n",
        "    b_baru.append(temp0+target[i])\n",
        "    temp0=b_baru[i]"
      ],
      "metadata": {
        "id": "OcX9Xwg-A4ro"
      },
      "execution_count": 2,
      "outputs": []
    },
    {
      "cell_type": "code",
      "source": [
        "for i in range(0,4):\n",
        "    net.append(x1[i]*w1_baru[3]+x2[i]*w2_baru[3]+b_baru[3])\n",
        "    if net[i]>=0:\n",
        "        a.append(1)\n",
        "    else:\n",
        "        a.append(0)"
      ],
      "metadata": {
        "id": "wzUFhQfWBm41"
      },
      "execution_count": 3,
      "outputs": []
    },
    {
      "cell_type": "code",
      "source": [
        "print()\n",
        "print('Data X1 = ', x1)\n",
        "print('Data X2 = ', x2)\n",
        "print('Data Bias = ', bias)\n",
        "print('Data Target = ', target)\n",
        "print()\n",
        "print('Data dW1 = ', w1_delta)\n",
        "print('Data dW2 = ', w2_delta)\n",
        "print('Data db = ', b_delta)\n",
        "print()\n",
        "print('Data W1 = ',w1_baru)\n",
        "print('Data W2 = ',w2_baru)\n",
        "print('Data b = ', b_baru)\n",
        "print()\n",
        "print('Net = ', net )\n",
        "print()\n",
        "print('F(net) = ', a)\n",
        "print('Target = ',target)"
      ],
      "metadata": {
        "colab": {
          "base_uri": "https://localhost:8080/"
        },
        "id": "XBSVCVDqCRBi",
        "outputId": "57fd7d66-4a6d-4fa5-e94f-1027c8f7362b"
      },
      "execution_count": 4,
      "outputs": [
        {
          "output_type": "stream",
          "name": "stdout",
          "text": [
            "\n",
            "Data X1 =  [0, 0, 1, 1]\n",
            "Data X2 =  [0, 1, 0, 1]\n",
            "Data Bias =  [1, 1, 1, 1]\n",
            "Data Target =  [0, 0, 0, 1]\n",
            "\n",
            "Data dW1 =  [0, 0, 0, 1]\n",
            "Data dW2 =  [0, 0, 0, 1]\n",
            "Data db =  [0, 0, 0, 1]\n",
            "\n",
            "Data W1 =  [0, 0, 0, 1]\n",
            "Data W2 =  [0, 0, 0, 1]\n",
            "Data b =  [0, 0, 0, 1]\n",
            "\n",
            "Net =  [1, 2, 2, 3]\n",
            "\n",
            "F(net) =  [1, 1, 1, 1]\n",
            "Target =  [0, 0, 0, 1]\n"
          ]
        }
      ]
    },
    {
      "cell_type": "code",
      "source": [
        "print('+---------------------------------------+')\n",
        "if target[0]==a[0] and target[1]==a[1] and \\\n",
        "    target[2]==a[2] and target[3]==a[3]:\n",
        "    print('| Valid                                 |')\n",
        "else :\n",
        "    print('| Invalid                               |')\n",
        "print('+---------------------------------------+')"
      ],
      "metadata": {
        "colab": {
          "base_uri": "https://localhost:8080/"
        },
        "id": "Cd39TLClC4Fl",
        "outputId": "bfe584a1-21e4-49f6-a4c0-b2ee5ef7fada"
      },
      "execution_count": 5,
      "outputs": [
        {
          "output_type": "stream",
          "name": "stdout",
          "text": [
            "+---------------------------------------+\n",
            "| Invalid                               |\n",
            "+---------------------------------------+\n"
          ]
        }
      ]
    }
  ]
}
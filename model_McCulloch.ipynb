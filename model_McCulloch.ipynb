{
  "nbformat": 4,
  "nbformat_minor": 0,
  "metadata": {
    "colab": {
      "provenance": [],
      "authorship_tag": "ABX9TyOoqasWkN20KmTdum1vSUiz",
      "include_colab_link": true
    },
    "kernelspec": {
      "name": "python3",
      "display_name": "Python 3"
    },
    "language_info": {
      "name": "python"
    }
  },
  "cells": [
    {
      "cell_type": "markdown",
      "metadata": {
        "id": "view-in-github",
        "colab_type": "text"
      },
      "source": [
        "<a href=\"https://colab.research.google.com/github/brillync/AI/blob/main/model_McCulloch.ipynb\" target=\"_parent\"><img src=\"https://colab.research.google.com/assets/colab-badge.svg\" alt=\"Open In Colab\"/></a>"
      ]
    },
    {
      "cell_type": "code",
      "execution_count": 5,
      "metadata": {
        "colab": {
          "base_uri": "https://localhost:8080/",
          "height": 130
        },
        "id": "TK5Nc0P88E9P",
        "outputId": "174d32f4-871d-4fe9-8cfc-304a34e84587"
      },
      "outputs": [
        {
          "output_type": "error",
          "ename": "IndentationError",
          "evalue": "ignored",
          "traceback": [
            "\u001b[0;36m  File \u001b[0;32m\"<ipython-input-5-4bb38f62c208>\"\u001b[0;36m, line \u001b[0;32m16\u001b[0m\n\u001b[0;31m    benar+=1\u001b[0m\n\u001b[0m    ^\u001b[0m\n\u001b[0;31mIndentationError\u001b[0m\u001b[0;31m:\u001b[0m expected an indented block after 'if' statement on line 15\n"
          ]
        }
      ],
      "source": [
        "import numpy as np\n",
        "x1=np.array([0,0,1,1])\n",
        "x2=np.array([0,1,0,1])\n",
        "y=np.array([0,0,0,1])\n",
        "w1=1\n",
        "w2=2\n",
        "t=2\n",
        "\n",
        "net=(x1*w1)+(x2*w2)\n",
        "y_net=(net>=t).astype(int)\n",
        "print(\"Y = \",y)\n",
        "print(\"NET = \",net, \"\\nY_NET\", y_net)\n",
        "\n",
        "benar=0\n",
        "if y_net[0]==y[0]:\n",
        "benar+=1\n",
        "if y_net[1]==y[1]:\n",
        "benar+=1\n",
        "if y_net[2]==y[2]:\n",
        "benar+=1\n",
        "if y_net[3]==y[3]:\n",
        "benar+=1\n",
        "if benar==4:\n",
        "  print(\"Data sudah sesuai\")\n",
        "  else:\n",
        "    print(\"Data tidak sesuai\")\n"
      ]
    }
  ]
}